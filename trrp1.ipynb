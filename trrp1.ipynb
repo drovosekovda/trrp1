{
 "cells": [
  {
   "cell_type": "code",
   "execution_count": 32,
   "metadata": {},
   "outputs": [
    {
     "ename": "AttributeError",
     "evalue": "iter_gists",
     "output_type": "error",
     "traceback": [
      "\u001b[1;31m---------------------------------------------------------------------------\u001b[0m",
      "\u001b[1;31mAttributeError\u001b[0m                            Traceback (most recent call last)",
      "\u001b[1;32m<ipython-input-32-38477b380322>\u001b[0m in \u001b[0;36m<module>\u001b[1;34m\u001b[0m\n\u001b[0;32m      6\u001b[0m \u001b[0mgh\u001b[0m \u001b[1;33m=\u001b[0m \u001b[0mlogin\u001b[0m\u001b[1;33m(\u001b[0m\u001b[0musername\u001b[0m\u001b[1;33m,\u001b[0m \u001b[0mpassword\u001b[0m\u001b[1;33m)\u001b[0m\u001b[1;33m\u001b[0m\u001b[1;33m\u001b[0m\u001b[0m\n\u001b[0;32m      7\u001b[0m \u001b[1;31m#repository = github.repository(owner, repository_name)\u001b[0m\u001b[1;33m\u001b[0m\u001b[1;33m\u001b[0m\u001b[1;33m\u001b[0m\u001b[0m\n\u001b[1;32m----> 8\u001b[1;33m \u001b[0mgists\u001b[0m \u001b[1;33m=\u001b[0m \u001b[1;33m[\u001b[0m\u001b[0mg\u001b[0m \u001b[1;32mfor\u001b[0m \u001b[0mg\u001b[0m \u001b[1;32min\u001b[0m \u001b[0mgh\u001b[0m\u001b[1;33m.\u001b[0m\u001b[0miter_gists\u001b[0m\u001b[1;33m(\u001b[0m\u001b[1;33m)\u001b[0m\u001b[1;33m]\u001b[0m\u001b[1;33m\u001b[0m\u001b[1;33m\u001b[0m\u001b[0m\n\u001b[0m",
      "\u001b[1;32mC:\\Games\\ANACONDA\\lib\\site-packages\\github3\\models.py\u001b[0m in \u001b[0;36m__getattr__\u001b[1;34m(self, attribute)\u001b[0m\n\u001b[0;32m     56\u001b[0m         \u001b[1;34m\"\"\"Proxy access to stored JSON.\"\"\"\u001b[0m\u001b[1;33m\u001b[0m\u001b[1;33m\u001b[0m\u001b[0m\n\u001b[0;32m     57\u001b[0m         \u001b[1;32mif\u001b[0m \u001b[0mattribute\u001b[0m \u001b[1;32mnot\u001b[0m \u001b[1;32min\u001b[0m \u001b[0mself\u001b[0m\u001b[1;33m.\u001b[0m\u001b[0m_json_data\u001b[0m\u001b[1;33m:\u001b[0m\u001b[1;33m\u001b[0m\u001b[1;33m\u001b[0m\u001b[0m\n\u001b[1;32m---> 58\u001b[1;33m             \u001b[1;32mraise\u001b[0m \u001b[0mAttributeError\u001b[0m\u001b[1;33m(\u001b[0m\u001b[0mattribute\u001b[0m\u001b[1;33m)\u001b[0m\u001b[1;33m\u001b[0m\u001b[1;33m\u001b[0m\u001b[0m\n\u001b[0m\u001b[0;32m     59\u001b[0m         \u001b[0mvalue\u001b[0m \u001b[1;33m=\u001b[0m \u001b[0mself\u001b[0m\u001b[1;33m.\u001b[0m\u001b[0m_json_data\u001b[0m\u001b[1;33m.\u001b[0m\u001b[0mget\u001b[0m\u001b[1;33m(\u001b[0m\u001b[0mattribute\u001b[0m\u001b[1;33m)\u001b[0m\u001b[1;33m\u001b[0m\u001b[1;33m\u001b[0m\u001b[0m\n\u001b[0;32m     60\u001b[0m         \u001b[0msetattr\u001b[0m\u001b[1;33m(\u001b[0m\u001b[0mself\u001b[0m\u001b[1;33m,\u001b[0m \u001b[0mattribute\u001b[0m\u001b[1;33m,\u001b[0m \u001b[0mvalue\u001b[0m\u001b[1;33m)\u001b[0m\u001b[1;33m\u001b[0m\u001b[1;33m\u001b[0m\u001b[0m\n",
      "\u001b[1;31mAttributeError\u001b[0m: iter_gists"
     ]
    }
   ],
   "source": [
    "from github3 import login, authorize\n",
    "import github3\n",
    "\n",
    "username=\"drovosekovda\"\n",
    "password=\"Rar_381_a_61\"\n",
    "gh = login(username, password)\n",
    "#repository = github.repository(owner, repository_name)\n",
    "gists = [g for g in gh.iter_gists()]"
   ]
  },
  {
   "cell_type": "code",
   "execution_count": 37,
   "metadata": {},
   "outputs": [
    {
     "name": "stdout",
     "output_type": "stream",
     "text": [
      "https://gist.github.com/55f8753c280192595a6262ae4bbc4a6a\n"
     ]
    }
   ],
   "source": [
    "gh = login(username, password)\n",
    "files = {'text.txt' : {'content': 'test create'}}\n",
    "gist = gh.create_gist('create gist', files, public=False)\n",
    "# gist == <Gist [gist-id]>\n",
    "print(gist.html_url)\n",
    "\n"
   ]
  },
  {
   "cell_type": "code",
   "execution_count": 31,
   "metadata": {},
   "outputs": [
    {
     "name": "stdout",
     "output_type": "stream",
     "text": [
      "https://github.com/drovosekovda/test\n",
      "<Response [404]>\n"
     ]
    },
    {
     "ename": "KeyError",
     "evalue": "'content'",
     "output_type": "error",
     "traceback": [
      "\u001b[1;31m---------------------------------------------------------------------------\u001b[0m",
      "\u001b[1;31mKeyError\u001b[0m                                  Traceback (most recent call last)",
      "\u001b[1;32m<ipython-input-31-21e97e7a8e35>\u001b[0m in \u001b[0;36m<module>\u001b[1;34m\u001b[0m\n\u001b[0;32m      8\u001b[0m \u001b[0mfile_response\u001b[0m \u001b[1;33m=\u001b[0m \u001b[0mrequests\u001b[0m\u001b[1;33m.\u001b[0m\u001b[0mget\u001b[0m\u001b[1;33m(\u001b[0m\u001b[1;34m\"https://api.github.com/drovosekovda/test/blob/master/11.txt\"\u001b[0m\u001b[1;33m,\u001b[0m \u001b[0mauth\u001b[0m\u001b[1;33m=\u001b[0m\u001b[1;33m(\u001b[0m\u001b[0musername\u001b[0m\u001b[1;33m,\u001b[0m \u001b[0mpassword\u001b[0m\u001b[1;33m)\u001b[0m\u001b[1;33m)\u001b[0m\u001b[1;33m\u001b[0m\u001b[1;33m\u001b[0m\u001b[0m\n\u001b[0;32m      9\u001b[0m \u001b[0mprint\u001b[0m\u001b[1;33m(\u001b[0m\u001b[0mfile_response\u001b[0m\u001b[1;33m)\u001b[0m\u001b[1;33m\u001b[0m\u001b[1;33m\u001b[0m\u001b[0m\n\u001b[1;32m---> 10\u001b[1;33m \u001b[0mfile_bytes\u001b[0m \u001b[1;33m=\u001b[0m \u001b[0mbase64\u001b[0m\u001b[1;33m.\u001b[0m\u001b[0mb64decode\u001b[0m\u001b[1;33m(\u001b[0m\u001b[0mfile_response\u001b[0m\u001b[1;33m.\u001b[0m\u001b[0mjson\u001b[0m\u001b[1;33m(\u001b[0m\u001b[1;33m)\u001b[0m\u001b[1;33m[\u001b[0m\u001b[1;34m'content'\u001b[0m\u001b[1;33m]\u001b[0m\u001b[1;33m)\u001b[0m\u001b[1;33m\u001b[0m\u001b[1;33m\u001b[0m\u001b[0m\n\u001b[0m\u001b[0;32m     11\u001b[0m \u001b[0mfile_str\u001b[0m \u001b[1;33m=\u001b[0m \u001b[0mfile_bytes\u001b[0m\u001b[1;33m.\u001b[0m\u001b[0mdecode\u001b[0m\u001b[1;33m(\u001b[0m\u001b[1;34m'utf-8'\u001b[0m\u001b[1;33m)\u001b[0m\u001b[1;33m\u001b[0m\u001b[1;33m\u001b[0m\u001b[0m\n\u001b[0;32m     12\u001b[0m \u001b[0mprint\u001b[0m\u001b[1;33m(\u001b[0m\u001b[0mfile_str\u001b[0m\u001b[1;33m)\u001b[0m\u001b[1;33m\u001b[0m\u001b[1;33m\u001b[0m\u001b[0m\n",
      "\u001b[1;31mKeyError\u001b[0m: 'content'"
     ]
    }
   ],
   "source": [
    "import requests\n",
    "import base64\n",
    "username=\"drovosekovda\"\n",
    "password=\"Rar_381_a_61\"\n",
    "repos = requests.get('https://api.github.com/user/repos', auth=(username, password))\n",
    "for repo in repos.json():\n",
    "    print(repo['html_url'])\n",
    "file_response = requests.get(\"https://api.github.com/drovosekovda/test/blob/master/11.txt\", auth=(username, password))\n",
    "print(file_response)\n",
    "file_bytes = base64.b64decode(file_response.json()['content'])\n",
    "file_str = file_bytes.decode('utf-8')\n",
    "print(file_str)"
   ]
  },
  {
   "cell_type": "code",
   "execution_count": 80,
   "metadata": {},
   "outputs": [
    {
     "name": "stdout",
     "output_type": "stream",
     "text": [
      "test\n",
      "test\n",
      "\n"
     ]
    }
   ],
   "source": [
    "from github import Github\n",
    "import base64\n",
    "username=\"drovosekovda\"\n",
    "password=\"Rar_381_a_61\"\n",
    "g = Github(username, password)\n",
    "for repo in g.get_user().get_repos():\n",
    "    print(repo.name)\n",
    "\n",
    "repo = g.get_repo(\"drovosekovda/test\")#Получить репозиторий\n",
    "#Получить файлы в репозитории\n",
    "#contents = repo.get_contents(\"\")\n",
    "#for content_file in contents:\n",
    "#    print(content_file.path)\n",
    "#\n",
    "\n",
    "#repo.create_file(\"название.txt\", \"Описание\",\"ТекстТекст\")#Создать файл\n",
    "contents = repo.get_contents(\"test2\")#Получить файл по названию\n",
    "file_bytes = base64.b64decode(contents.content)\n",
    "file_str = file_bytes.decode('utf-8')\n",
    "print(file_str)\n",
    "#repo.update_file(contents.path, \"Описание12345\", \"ТекстТекст12345\", contents.sha)#Изменить\n",
    "#repo.delete_file(contents.path, \"\", contents.sha)#Удалить файл"
   ]
  },
  {
   "cell_type": "code",
   "execution_count": 34,
   "metadata": {
    "scrolled": true
   },
   "outputs": [],
   "source": [
    "def encrypt_(username,password):\n",
    "    if len(username)<16:\n",
    "        for i in range(0,16-len(username)):\n",
    "            username+=\" \"\n",
    "    if len(password)<16:\n",
    "        for i in range(0,16-len(password)):\n",
    "            password+=\" \"\n",
    "    tag1 = cipher.encrypt(username)\n",
    "    tag2 = cipher.encrypt(password)\n",
    "    file_name=\"log_pas\"\n",
    "    with open(file_name, 'wb') as byte_file:\n",
    "        byte_file.write(tag1)\n",
    "        byte_file.write(tag2)"
   ]
  },
  {
   "cell_type": "code",
   "execution_count": null,
   "metadata": {},
   "outputs": [],
   "source": []
  },
  {
   "cell_type": "code",
   "execution_count": 35,
   "metadata": {},
   "outputs": [
    {
     "name": "stdout",
     "output_type": "stream",
     "text": [
      "Авторизация под логином: drovosekovda\n",
      "insert [название файла] - создать файл\n",
      "select [название файла] - показать файл\n",
      "update [название файла] - обновить файл\n",
      "delete [название файла] - удалить файл\n",
      "show - показать содержимое каталога\n",
      "exit - выход\n",
      "учше\n",
      "show\n",
      "-> 11.txt\n",
      "-> 123\n",
      "-> create DB\n",
      "-> test\n",
      "-> test2\n",
      "-> название.txt\n",
      "exit\n"
     ]
    }
   ],
   "source": [
    "import getpass\n",
    "import binascii\n",
    "from Crypto.Cipher import AES\n",
    "from github import Github\n",
    "import base64\n",
    "key = binascii.unhexlify('aaaaaaaaaaaaaaaaaaaaaaaaaaaaaaaa')\n",
    "cipher = AES.new(key)\n",
    "username=\"\"\n",
    "password=\"\"\n",
    "file_name=\"log_pas\"\n",
    "try:\n",
    "    with open(file_name, 'rb') as byte_file:\n",
    "        tag=byte_file.readline()\n",
    "        tag1 = cipher.decrypt(tag)\n",
    "        username=tag1.decode()\n",
    "        password=username.split()[1]\n",
    "        username=username.split()[0]\n",
    "        print(\"Авторизация под логином: \"+username)\n",
    "except:\n",
    "    print(\"\")\n",
    "if (str(username)==\"\"):\n",
    "    print(\"Введите Логин\")\n",
    "    username=input()\n",
    "    print(\"Введите пароль\")\n",
    "    password=getpass.getpass()\n",
    "    \n",
    "\n",
    "\n",
    "#print(username)\n",
    "try:\n",
    "    g = Github(username, password)\n",
    "    encrypt_(username,password)\n",
    "    repo = g.get_repo(\"drovosekovda/test\")#Получить репозиторий\n",
    "    print(\"insert [название файла] - создать файл\")\n",
    "    print(\"select [название файла] - показать файл\")\n",
    "    print(\"update [название файла] - обновить файл\")\n",
    "    print(\"delete [название файла] - удалить файл\")\n",
    "    print(\"show - показать содержимое каталога\")\n",
    "    print(\"exit - выход\")\n",
    "    command=input()\n",
    "    while command!=\"exit\":\n",
    "        try:\n",
    "            if (command.split()[0]==\"insert\"):\n",
    "                print(\"Введите текс:\")\n",
    "                text=input()\n",
    "                repo.create_file(command.split()[1], \"\",text)#Создать файл\n",
    "            if (command==\"show\"):\n",
    "                #Получить файлы в репозитории\n",
    "                repo = g.get_repo(\"drovosekovda/test\")#Получить репозиторий\n",
    "                contents = repo.get_contents(\"\")\n",
    "                for content_file in contents:\n",
    "                    print(\"->\",content_file.path)\n",
    "            if (command.split()[0]==\"update\"):\n",
    "                contents = repo.get_contents(command.split()[1])#Получить файл по названию\n",
    "                file_bytes = base64.b64decode(contents.content)\n",
    "                file_str = file_bytes.decode('utf-8')\n",
    "                print(\"Содержимое файла:\")\n",
    "                print(file_str)\n",
    "                print(\"Введите новое содержимое:\")\n",
    "                text=input()\n",
    "                repo.update_file(contents.path, \"\", text, contents.sha)#Изменить\n",
    "            if (command.split()[0]==\"delete\"):\n",
    "                contents = repo.get_contents(command.split()[1])#Получить файл по названию\n",
    "                repo.delete_file(contents.path, \"\", contents.sha)#Удалить файл\n",
    "            if (command.split()[0]==\"select\"):\n",
    "                contents = repo.get_contents(command.split()[1])#Получить файл по названию\n",
    "                file_bytes = base64.b64decode(contents.content)\n",
    "                file_str = file_bytes.decode('utf-8')\n",
    "                print(\"Содержимое файла:\")\n",
    "                print(file_str)\n",
    "        except:\n",
    "            print(\"Error\")\n",
    "        command=input()\n",
    "except:\n",
    "    print(\"Ошибка авторизации\")"
   ]
  },
  {
   "cell_type": "code",
   "execution_count": null,
   "metadata": {},
   "outputs": [],
   "source": []
  }
 ],
 "metadata": {
  "kernelspec": {
   "display_name": "Python 3",
   "language": "python",
   "name": "python3"
  },
  "language_info": {
   "codemirror_mode": {
    "name": "ipython",
    "version": 3
   },
   "file_extension": ".py",
   "mimetype": "text/x-python",
   "name": "python",
   "nbconvert_exporter": "python",
   "pygments_lexer": "ipython3",
   "version": "3.7.3"
  }
 },
 "nbformat": 4,
 "nbformat_minor": 2
}
